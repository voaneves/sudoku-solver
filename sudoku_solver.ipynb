{
  "cells": [
    {
      "cell_type": "markdown",
      "id": "22660e3d",
      "metadata": {
        "id": "22660e3d"
      },
      "source": [
        " **Sudoku Solver** - quick sudoku solver in Python, using PuLP\n",
        "================="
      ]
    },
    {
      "cell_type": "markdown",
      "id": "64aa898c",
      "metadata": {
        "id": "64aa898c"
      },
      "source": [
        "### A sudoku solver for any board you find. Have a go! 🎱\n",
        "\n",
        "This is the notebook for the repository [sudoku-solver](https://github.com/voaneves/sudoku-solver), in which you could test the execution with GPU/CPU for a sudoku solver. \n",
        "\n",
        "Let's begin using PuLP for Linear Programming in order to solve the sudoku."
      ]
    },
    {
      "cell_type": "markdown",
      "source": [
        "# Table of Contents"
      ],
      "metadata": {
        "id": "vFR9AmdRG_Mr"
      },
      "id": "vFR9AmdRG_Mr"
    },
    {
      "cell_type": "markdown",
      "source": [
        "[1. Imports](#imports)\n",
        "\n",
        "[2. Add constraints](#constraints)\n",
        "\n",
        "[3. Extract and print a solution](#extract)\n",
        "\n",
        "[4. Solver](#solver)\n",
        "\n",
        "[5. Random board creator](#random)\n",
        "\n",
        "[6. Testing](#testing)"
      ],
      "metadata": {
        "id": "uquzOEQhGuV9"
      },
      "id": "uquzOEQhGuV9"
    },
    {
      "cell_type": "markdown",
      "id": "4c5a308b",
      "metadata": {
        "id": "4c5a308b"
      },
      "source": [
        "## 1. Imports <a name=\"imports\"></a>"
      ]
    },
    {
      "cell_type": "markdown",
      "source": [
        "### 1.1. Install dependencies"
      ],
      "metadata": {
        "id": "oqanFATFIVZS"
      },
      "id": "oqanFATFIVZS"
    },
    {
      "cell_type": "code",
      "source": [
        "%pip install pulp"
      ],
      "metadata": {
        "colab": {
          "base_uri": "https://localhost:8080/"
        },
        "id": "-bg_5Iz8Ev-S",
        "outputId": "99e54c44-ffac-4c4e-dd53-fa86009349a3"
      },
      "id": "-bg_5Iz8Ev-S",
      "execution_count": 1,
      "outputs": [
        {
          "output_type": "stream",
          "name": "stdout",
          "text": [
            "Looking in indexes: https://pypi.org/simple, https://us-python.pkg.dev/colab-wheels/public/simple/\n",
            "Requirement already satisfied: pulp in /usr/local/lib/python3.7/dist-packages (2.6.0)\n"
          ]
        }
      ]
    },
    {
      "cell_type": "markdown",
      "source": [
        "### 1.2. Import the packages"
      ],
      "metadata": {
        "id": "3J63lC99If8k"
      },
      "id": "3J63lC99If8k"
    },
    {
      "cell_type": "code",
      "execution_count": 2,
      "id": "c6553d9a",
      "metadata": {
        "id": "c6553d9a"
      },
      "outputs": [],
      "source": [
        "import pulp as plp"
      ]
    },
    {
      "cell_type": "markdown",
      "id": "443b4bc4",
      "metadata": {
        "id": "443b4bc4"
      },
      "source": [
        "## 2. Add constraints <a name=\"constraints\"></a>"
      ]
    },
    {
      "cell_type": "markdown",
      "id": "ec355096",
      "metadata": {
        "id": "ec355096"
      },
      "source": [
        "### 2.1. Default Constraints"
      ]
    },
    {
      "cell_type": "markdown",
      "id": "2f3c2027",
      "metadata": {
        "id": "2f3c2027"
      },
      "source": [
        "Considering sudoku as a linear problem, the following constraints are necessary:\n",
        "\n",
        "* **Constraint 1**: Each cell should be filled with a single value between 1 and 9  \n",
        "* **Constraint 2**: Each row should contain every number from 1 to 9 once \n",
        "* **Constraint 3**: Each column should contain every number from 1 to 9 once \n",
        "* **Constraint 4**: Each 3x3 grid, starting from top left, should contain every number from 1 to 9 once"
      ]
    },
    {
      "cell_type": "code",
      "execution_count": 3,
      "id": "4561da1d",
      "metadata": {
        "ExecuteTime": {
          "end_time": "2021-08-06T05:54:15.843370Z",
          "start_time": "2021-08-06T05:54:15.836466Z"
        },
        "id": "4561da1d"
      },
      "outputs": [],
      "source": [
        "def add_default_constraints(prob, target_vars, rows, cols, grids, values):\n",
        "    # only one value per cell\n",
        "    for row in rows:\n",
        "        for col in cols:\n",
        "                prob.addConstraint(plp.LpConstraint(e = plp.lpSum([target_vars[row][col][value] for value in values]),\n",
        "                                                    sense = plp.LpConstraintEQ,\n",
        "                                                    rhs = 1,\n",
        "                                                    name = f\"constraint_sum_{row}_{col}\"))\n",
        "                \n",
        "    # each row have numbers 1 to 9 only once        \n",
        "    for row in rows:\n",
        "        for value in values:\n",
        "            prob.addConstraint(plp.LpConstraint(e = plp.lpSum([target_vars[row][col][value]*value  for col in cols]),\n",
        "                                                sense = plp.LpConstraintEQ,\n",
        "                                                rhs = value,\n",
        "                                                name = f\"constraint_uniq_row_{row}_{value}\"))\n",
        "            \n",
        "    # each column have numbers 1 to 9 only once         \n",
        "    for col in cols:\n",
        "        for value in values:\n",
        "            prob.addConstraint(plp.LpConstraint(e = plp.lpSum([target_vars[row][col][value]*value  for row in rows]),\n",
        "                                                sense = plp.LpConstraintEQ,\n",
        "                                                rhs = value,\n",
        "                                                name = f\"constraint_uniq_col_{col}_{value}\"))\n",
        "\n",
        "    # each grid have numbers 1 to 9 only once        \n",
        "    for grid in grids:\n",
        "        grid_row  = int(grid/3)\n",
        "        grid_col  = int(grid%3)\n",
        "\n",
        "        for value in values:\n",
        "            prob.addConstraint(plp.LpConstraint(e = plp.lpSum([target_vars[grid_row*3+row][grid_col*3+col][value]*value  for col in range(0,3) for row in range(0,3)]),\n",
        "                                        sense = plp.LpConstraintEQ,\n",
        "                                        rhs = value,\n",
        "                                        name = f\"constraint_uniq_grid_{grid}_{value}\"))"
      ]
    },
    {
      "cell_type": "markdown",
      "id": "e37735dc",
      "metadata": {
        "id": "e37735dc"
      },
      "source": [
        "### 2.2. Diagonal constraints"
      ]
    },
    {
      "cell_type": "markdown",
      "id": "9a7d3215",
      "metadata": {
        "id": "9a7d3215"
      },
      "source": [
        "For diagonals sudoku, there's an additional constraint, as follows:\n",
        "\n",
        "* **Constraint 5**: Each diagonal should contain every number from 1 to 9 once"
      ]
    },
    {
      "cell_type": "code",
      "execution_count": 4,
      "id": "281db37d",
      "metadata": {
        "ExecuteTime": {
          "end_time": "2021-08-06T05:54:16.436986Z",
          "start_time": "2021-08-06T05:54:16.431594Z"
        },
        "id": "281db37d"
      },
      "outputs": [],
      "source": [
        "def add_diagonal_sudoku_constraints(prob, target_vars, rows, cols, values):\n",
        "        # Constraint from top-left to bottom-right - numbers 1 - 9 should not repeat\n",
        "        for value in values:\n",
        "                prob.addConstraint(plp.LpConstraint(e = plp.lpSum([target_vars[row][row][value]*value  for row in rows]),\n",
        "                                                    sense = plp.LpConstraintEQ,\n",
        "                                                    rhs = value,\n",
        "                                                    name = f\"constraint_uniq_diag1_{value}\"))\n",
        "\n",
        "        # Constraint from top-right to bottom-left - numbers 1 - 9 should not repeat\n",
        "        for value in values:\n",
        "                prob.addConstraint(plp.LpConstraint(e = plp.lpSum([target_vars[row][len(rows)-row-1][value]*value  for row in rows]),\n",
        "                                                    sense = plp.LpConstraintEQ,\n",
        "                                                    rhs = value,\n",
        "                                                    name = f\"constraint_uniq_diag2_{value}\"))\n"
      ]
    },
    {
      "cell_type": "markdown",
      "id": "6f88d242",
      "metadata": {
        "id": "6f88d242"
      },
      "source": [
        "### 2.3. Prefilled values as constraints"
      ]
    },
    {
      "cell_type": "markdown",
      "id": "0e9dab92",
      "metadata": {
        "ExecuteTime": {
          "end_time": "2021-08-06T05:45:40.313749Z",
          "start_time": "2021-08-06T05:45:40.310219Z"
        },
        "id": "0e9dab92"
      },
      "source": [
        "It's important to set the giver board values as constants. \n",
        "\n",
        "* **Constraint 6**: Fill the prefilled cells as constraints to the LP problem."
      ]
    },
    {
      "cell_type": "code",
      "execution_count": 5,
      "id": "966b650f",
      "metadata": {
        "ExecuteTime": {
          "end_time": "2021-08-06T05:54:17.004152Z",
          "start_time": "2021-08-06T05:54:17.000003Z"
        },
        "id": "966b650f"
      },
      "outputs": [],
      "source": [
        "def add_prefilled_constraints(prob, input_sudoku, target_vars, rows, cols, values):\n",
        "    for row in rows:\n",
        "        for col in cols:\n",
        "            if(input_sudoku[row][col] != 0):\n",
        "                prob.addConstraint(plp.LpConstraint(e = plp.lpSum([target_vars[row][col][value]*value  for value in values]), \n",
        "                                                    sense = plp.LpConstraintEQ, \n",
        "                                                    rhs = input_sudoku[row][col],\n",
        "                                                    name = f\"constraint_prefilled_{row}_{col}\"))"
      ]
    },
    {
      "cell_type": "markdown",
      "id": "d6ddbd01",
      "metadata": {
        "id": "d6ddbd01"
      },
      "source": [
        "## 3. Extract & Print Solution <a name=\"extract\"></a>"
      ]
    },
    {
      "cell_type": "markdown",
      "id": "847e7998",
      "metadata": {
        "id": "847e7998"
      },
      "source": [
        "### 3.1. Extract solution from the target variable to a list array"
      ]
    },
    {
      "cell_type": "code",
      "execution_count": 6,
      "id": "4dccbcca",
      "metadata": {
        "ExecuteTime": {
          "end_time": "2021-08-06T05:54:17.547210Z",
          "start_time": "2021-08-06T05:54:17.543539Z"
        },
        "id": "4dccbcca"
      },
      "outputs": [],
      "source": [
        "def extract_solution(target_vars, rows, cols, values):\n",
        "    solution = [[0 for col in cols] for row in rows]\n",
        "    grid_list = []\n",
        "\n",
        "    # extract the solution\n",
        "    for row in rows:\n",
        "        for col in cols:\n",
        "            for value in values:\n",
        "                if plp.value(target_vars[row][col][value]):\n",
        "                    solution[row][col] = value # make it into an array\n",
        "\n",
        "    return solution"
      ]
    },
    {
      "cell_type": "markdown",
      "id": "96f612a5",
      "metadata": {
        "id": "96f612a5"
      },
      "source": [
        "### 3.2. Print the solution as a Sudoku grid"
      ]
    },
    {
      "cell_type": "code",
      "execution_count": 7,
      "id": "1db5d41b",
      "metadata": {
        "ExecuteTime": {
          "end_time": "2021-08-06T05:54:17.920093Z",
          "start_time": "2021-08-06T05:54:17.916230Z"
        },
        "id": "1db5d41b"
      },
      "outputs": [],
      "source": [
        "def print_solution(solution, rows,cols):\n",
        "    # Print the final result\n",
        "    print(f\"\\nFinal result:\")\n",
        "\n",
        "    print(\"\\n\\n+ ----------- + ----------- + ----------- +\",end=\"\")\n",
        "    for row in rows:\n",
        "        print(\"\\n\",end=\"\\n|  \")\n",
        "        for col in cols:\n",
        "            num_end = \"  |  \" if ((col+1)%3 == 0) else \"   \"\n",
        "            print(solution[row][col],end=num_end)\n",
        "\n",
        "        if ((row+1)%3 == 0):\n",
        "            print(\"\\n\\n+ ----------- + ----------- + ----------- +\",end=\"\")"
      ]
    },
    {
      "cell_type": "markdown",
      "id": "45760f73",
      "metadata": {
        "id": "45760f73"
      },
      "source": [
        "## 4. Sudoku Solver <a name=\"solver\"></a>"
      ]
    },
    {
      "cell_type": "markdown",
      "id": "448a1339",
      "metadata": {
        "id": "448a1339"
      },
      "source": [
        "Sudoku Solver: Find a solution where the constraints are satisfied.   \n",
        "Need to identify a feasible solution and not an optimal solution.\n",
        "\n",
        "Decision Variables: 9x9x9 --> Binary variables: (row,column, value)   \n",
        "Create a set of binary variables. 9 binary variables for each cell (row,col) - one for each value from 1 to 9.  \n",
        "For every cell, only one of the 9 binary variables for that (row,col) can be set (constraint)"
      ]
    },
    {
      "cell_type": "code",
      "execution_count": 8,
      "id": "8c1c7a48",
      "metadata": {
        "ExecuteTime": {
          "end_time": "2021-08-06T05:54:18.509291Z",
          "start_time": "2021-08-06T05:54:18.503752Z"
        },
        "id": "8c1c7a48"
      },
      "outputs": [],
      "source": [
        "def solve_sudoku(input_sudoku, diagonal = False ):\n",
        "    # Create the linear programming problem\n",
        "    prob = plp.LpProblem(\"sudoku-solver\")\n",
        "\n",
        "    rows = range(0,9)\n",
        "    cols = range(0,9)\n",
        "    grids = range(0,9)\n",
        "    values = range(1,10)\n",
        "\n",
        "    # Decision Variable/Target variable\n",
        "    target_vars = plp.LpVariable.dicts(\"grid_value\", (rows,cols,values), cat='Binary') \n",
        "\n",
        "    # Set the objective function, needed for the PuLP but not for our problem\n",
        "    objective = plp.lpSum(0)\n",
        "    prob.setObjective(objective) \n",
        "\n",
        "    # Create the default constraints to solve sudoku\n",
        "    add_default_constraints(prob, target_vars, rows, cols, grids, values)\n",
        "\n",
        "    # Add the diagonal constraints if flag is set\n",
        "    if diagonal:\n",
        "        add_diagonal_sudoku_constraints(prob, target_vars, rows, cols, values)\n",
        "        \n",
        "    # Fill the prefilled values from input sudoku as constraints\n",
        "    add_prefilled_constraints(prob, input_sudoku, target_vars, rows, cols, values)\n",
        "\n",
        "\n",
        "    # Solve the problem\n",
        "    prob.solve()\n",
        "\n",
        "    # Print the status of the solution\n",
        "    solution_status = plp.LpStatus[prob.status]\n",
        "    print(f'Solution Status = {plp.LpStatus[prob.status]}')\n",
        "\n",
        "    # Extract the solution if an optimal solution has been identified\n",
        "    if solution_status == 'Optimal':\n",
        "        solution = extract_solution(target_vars, rows, cols, values)\n",
        "        print_solution(solution, rows,cols)"
      ]
    },
    {
      "cell_type": "markdown",
      "source": [
        "## 5. Random board creator <a name=\"random\"></a>"
      ],
      "metadata": {
        "id": "EdYso_LcPor6"
      },
      "id": "EdYso_LcPor6"
    },
    {
      "cell_type": "markdown",
      "source": [
        "### 5.1. C"
      ],
      "metadata": {
        "id": "8yEoxxB8Pt2n"
      },
      "id": "8yEoxxB8Pt2n"
    },
    {
      "cell_type": "markdown",
      "source": [
        "## 6. Testing <a name=\"testing\"></a>"
      ],
      "metadata": {
        "id": "54_6wn0fOxoa"
      },
      "id": "54_6wn0fOxoa"
    },
    {
      "cell_type": "markdown",
      "id": "c91348c4",
      "metadata": {
        "id": "c91348c4"
      },
      "source": [
        "### 6.1. Run the Normal Sudoku"
      ]
    },
    {
      "cell_type": "code",
      "execution_count": 12,
      "id": "f4aeebdc",
      "metadata": {
        "ExecuteTime": {
          "end_time": "2021-08-06T05:54:22.079800Z",
          "start_time": "2021-08-06T05:54:22.062867Z"
        },
        "colab": {
          "base_uri": "https://localhost:8080/"
        },
        "id": "f4aeebdc",
        "outputId": "ac38ee42-fddc-4fe3-d9ac-c4b5ec04c1ad"
      },
      "outputs": [
        {
          "output_type": "stream",
          "name": "stdout",
          "text": [
            "Solution Status = Optimal\n",
            "\n",
            "Final result:\n",
            "\n",
            "\n",
            "+ ----------- + ----------- + ----------- +\n",
            "\n",
            "|  8   2   5  |  9   3   7  |  1   4   6  |  \n",
            "\n",
            "|  4   1   3  |  2   5   6  |  8   9   7  |  \n",
            "\n",
            "|  9   7   6  |  4   8   1  |  2   5   3  |  \n",
            "\n",
            "+ ----------- + ----------- + ----------- +\n",
            "\n",
            "|  1   5   4  |  3   7   2  |  6   8   9  |  \n",
            "\n",
            "|  3   8   9  |  6   4   5  |  7   2   1  |  \n",
            "\n",
            "|  2   6   7  |  1   9   8  |  5   3   4  |  \n",
            "\n",
            "+ ----------- + ----------- + ----------- +\n",
            "\n",
            "|  5   3   1  |  7   2   4  |  9   6   8  |  \n",
            "\n",
            "|  7   4   8  |  5   6   9  |  3   1   2  |  \n",
            "\n",
            "|  6   9   2  |  8   1   3  |  4   7   5  |  \n",
            "\n",
            "+ ----------- + ----------- + ----------- +"
          ]
        }
      ],
      "source": [
        "normal_sudoku = [\n",
        "                    [8,0,0,0,0,0,0,0,0],\n",
        "                    [0,0,3,0,0,0,0,0,0],\n",
        "                    [0,7,0,0,0,0,2,0,0],\n",
        "                    [0,5,0,0,0,0,0,0,0],\n",
        "                    [0,0,0,0,4,0,7,0,0],\n",
        "                    [0,0,0,1,0,0,0,3,0],\n",
        "                    [0,0,1,0,0,0,0,6,8],\n",
        "                    [0,0,8,5,0,0,0,1,0],\n",
        "                    [0,9,0,0,0,0,4,0,0]\n",
        "                ]\n",
        "\n",
        "solve_sudoku(input_sudoku = normal_sudoku,\n",
        "             diagonal = False)"
      ]
    },
    {
      "cell_type": "markdown",
      "id": "a84b3b07",
      "metadata": {
        "id": "a84b3b07"
      },
      "source": [
        "### 6.2. Run the Diagonal Sudoku"
      ]
    },
    {
      "cell_type": "code",
      "execution_count": 10,
      "id": "992d8805",
      "metadata": {
        "colab": {
          "base_uri": "https://localhost:8080/"
        },
        "id": "992d8805",
        "outputId": "bb207e2c-2dcb-428c-e760-1c9fd516b413"
      },
      "outputs": [
        {
          "output_type": "stream",
          "name": "stdout",
          "text": [
            "Solution Status = Optimal\n",
            "\n",
            "Final result:\n",
            "\n",
            "\n",
            "+ ----------- + ----------- + ----------- +\n",
            "\n",
            "|  6   3   9  |  2   7   4  |  8   5   1  |  \n",
            "\n",
            "|  1   4   2  |  6   8   5  |  7   3   9  |  \n",
            "\n",
            "|  8   7   5  |  1   3   9  |  6   4   2  |  \n",
            "\n",
            "+ ----------- + ----------- + ----------- +\n",
            "\n",
            "|  5   1   3  |  7   6   2  |  9   8   4  |  \n",
            "\n",
            "|  4   6   8  |  5   9   1  |  2   7   3  |  \n",
            "\n",
            "|  2   9   7  |  8   4   3  |  5   1   6  |  \n",
            "\n",
            "+ ----------- + ----------- + ----------- +\n",
            "\n",
            "|  3   8   4  |  9   2   7  |  1   6   5  |  \n",
            "\n",
            "|  9   5   6  |  3   1   8  |  4   2   7  |  \n",
            "\n",
            "|  7   2   1  |  4   5   6  |  3   9   8  |  \n",
            "\n",
            "+ ----------- + ----------- + ----------- +"
          ]
        }
      ],
      "source": [
        "diagonal_sudoku = [\n",
        "                    [0,3,0,2,7,0,0,0,0],\n",
        "                    [0,0,0,0,0,0,0,0,0],\n",
        "                    [8,0,0,0,0,0,0,0,0],\n",
        "                    [5,1,0,0,0,0,0,8,4],\n",
        "                    [4,0,0,5,9,0,0,7,0],\n",
        "                    [2,9,0,0,0,0,0,1,0],\n",
        "                    [0,0,0,0,0,0,1,0,5],\n",
        "                    [0,0,6,3,0,8,0,0,7],\n",
        "                    [0,0,0,0,0,0,3,0,0]\n",
        "                  ]\n",
        "\n",
        "solve_sudoku(input_sudoku = diagonal_sudoku,\n",
        "             diagonal = True)"
      ]
    }
  ],
  "metadata": {
    "kernelspec": {
      "display_name": "Python 3.10.7 64-bit (microsoft store)",
      "language": "python",
      "name": "python3"
    },
    "language_info": {
      "codemirror_mode": {
        "name": "ipython",
        "version": 3
      },
      "file_extension": ".py",
      "mimetype": "text/x-python",
      "name": "python",
      "nbconvert_exporter": "python",
      "pygments_lexer": "ipython3",
      "version": "3.10.7"
    },
    "toc": {
      "base_numbering": 1,
      "nav_menu": {},
      "number_sections": true,
      "sideBar": true,
      "skip_h1_title": false,
      "title_cell": "Table of Contents",
      "title_sidebar": "My Steps",
      "toc_cell": false,
      "toc_position": {},
      "toc_section_display": true,
      "toc_window_display": true
    },
    "varInspector": {
      "cols": {
        "lenName": 16,
        "lenType": 16,
        "lenVar": 40
      },
      "kernels_config": {
        "python": {
          "delete_cmd_postfix": "",
          "delete_cmd_prefix": "del ",
          "library": "var_list.py",
          "varRefreshCmd": "print(var_dic_list())"
        },
        "r": {
          "delete_cmd_postfix": ") ",
          "delete_cmd_prefix": "rm(",
          "library": "var_list.r",
          "varRefreshCmd": "cat(var_dic_list()) "
        }
      },
      "types_to_exclude": [
        "module",
        "function",
        "builtin_function_or_method",
        "instance",
        "_Feature"
      ],
      "window_display": false
    },
    "vscode": {
      "interpreter": {
        "hash": "a141e979f47d0321f552a3a7e629b4f252c2696d405db34dd45befa51abe3df3"
      }
    },
    "colab": {
      "provenance": [],
      "collapsed_sections": []
    }
  },
  "nbformat": 4,
  "nbformat_minor": 5
}